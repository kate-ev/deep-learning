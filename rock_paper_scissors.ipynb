{
  "nbformat": 4,
  "nbformat_minor": 0,
  "metadata": {
    "colab": {
      "provenance": [],
      "history_visible": true,
      "include_colab_link": true
    },
    "kernelspec": {
      "name": "python3",
      "display_name": "Python 3"
    },
    "language_info": {
      "name": "python"
    }
  },
  "cells": [
    {
      "cell_type": "markdown",
      "metadata": {
        "id": "view-in-github",
        "colab_type": "text"
      },
      "source": [
        "<a href=\"https://colab.research.google.com/github/kate-ev/deep-learning/blob/main/rock_paper_scissors.ipynb\" target=\"_parent\"><img src=\"https://colab.research.google.com/assets/colab-badge.svg\" alt=\"Open In Colab\"/></a>"
      ]
    },
    {
      "cell_type": "markdown",
      "source": [
        "### **1.lielais mājasdarbs - \"Akmens-šķēres-papīrītis\"**"
      ],
      "metadata": {
        "id": "mWa5ay2D4QdD"
      }
    },
    {
      "cell_type": "code",
      "source": [
        "# Autore: Jekaterina Jevtejeva\n",
        "# St.apl.numurs: jj19021\n",
        "\n",
        "# Spēles gājiena hot-kodējums, definēts pēc uzdevuma nosacījumiem\n",
        "rock = [1, 0, 0] # akmens\n",
        "scissors = [0, 1, 0] # šķēres\n",
        "paper = [0, 0, 1] # papīrītis\n",
        "\n",
        "# Spēles rezultāta kodējums, definēts pēc uzdevuma nosacījumiem\n",
        "fst_win = [1, 0] # pirmais spēlētājs uzvar\n",
        "snd_win = [0, 1] # otrais spēlētājs uzvar\n",
        "undecided = [1, 1] # neizšķirts\n",
        "\n",
        "# Definē visas iespējamās gājienu kombinācijas\n",
        "input = [[rock, rock],\n",
        "        [rock, scissors],\n",
        "        [rock, paper],\n",
        "        [scissors, rock],\n",
        "        [scissors, scissors],\n",
        "        [scissors, paper],\n",
        "        [paper, rock],\n",
        "        [paper, scissors],\n",
        "        [paper, paper]]\n",
        "\n",
        "# Definē spēles rezultātus ieejas datu kombināciju secībā\n",
        "expected = [undecided,\n",
        "            fst_win,\n",
        "            snd_win,\n",
        "            snd_win,\n",
        "            undecided,\n",
        "            fst_win,\n",
        "            fst_win,\n",
        "            snd_win,\n",
        "            undecided]\n",
        "\n",
        "import torch\n",
        "from torch import nn\n",
        "\n",
        "# Tīkla modulis\n",
        "class RockPaperScissors(nn.Module):\n",
        "\n",
        "  def __init__(self, batch_size, num_vectors, in_features, out_features):\n",
        "    super().__init__()\n",
        "    # Vērtības, kas ir nepieciešamas datu pārveidojumiem\n",
        "    self.batch_size = batch_size\n",
        "    self.flattened = num_vectors * in_features\n",
        "    # Slāņi\n",
        "    self.linear = nn.Linear(self.flattened, self.flattened)\n",
        "    self.act_fn = nn.ReLU()\n",
        "    self.linear2 = nn.Linear(self.flattened, out_features)\n",
        "    self.act_fn2 = nn.Sigmoid()\n",
        "\n",
        "  def forward(self, x):\n",
        "    # Pārveido ievaddatus no 3D [9,2,3] uz 2D [9,6], izmantojot izrēķināto vērtību flattened\n",
        "    x = torch.reshape(x, [self.batch_size, self.flattened])\n",
        "    # Secīgi pielieto slāņus\n",
        "    x = self.linear(x)\n",
        "    x = self.act_fn(x)\n",
        "    x = self.linear2(x)\n",
        "    x = self.act_fn2(x)\n",
        "    return x\n",
        "\n",
        "import torch.utils.data as data\n",
        "\n",
        "# Dataset realizācija\n",
        "class RPSDataset(data.Dataset):\n",
        "\n",
        "    def __init__(self):\n",
        "        super().__init__()\n",
        "        # Veido tenzorus no datiem\n",
        "        training_data = torch.tensor(input)\n",
        "        self.training_data = torch.tensor(training_data, dtype=torch.float32)\n",
        "        self.training_expected = torch.tensor(expected, dtype=torch.float32)\n",
        "\n",
        "    def __len__(self):\n",
        "        return 9\n",
        "\n",
        "    def __getitem__(self, idx):\n",
        "        data_point = self.training_data[idx]\n",
        "        data_label = self.training_expected[idx]\n",
        "        return data_point, data_label\n",
        "\n",
        "dataset = RPSDataset()\n",
        "data_loader = data.DataLoader(dataset, batch_size=9, shuffle=False)\n",
        "\n",
        "# batch_size - ieejas variantu daudzums\n",
        "# num_vectors - no cik vektoriem sastāv katrs variants\n",
        "# in_features - cik vērtības ir katrā vektorā\n",
        "# out_features - cik vērtībām jābūt izejas vektorā\n",
        "model = RockPaperScissors(batch_size=9, num_vectors=2, in_features=3, out_features=2)\n",
        "model.train()\n",
        "optimizer = torch.optim.SGD(model.parameters(), lr=0.1)\n",
        "lossfunction = nn.MSELoss()\n",
        "\n",
        "# Modeļa apmācība\n",
        "for epoch in range(15000):\n",
        "  for data_inputs, data_labels in data_loader:\n",
        "    result = model(data_inputs)\n",
        "\n",
        "    # Izrēķina zaudējumfuknciju\n",
        "    loss = lossfunction(result, data_labels)\n",
        "\n",
        "    # Backpropagation\n",
        "    optimizer.zero_grad()\n",
        "    loss.backward()\n",
        "\n",
        "    # Izmaina parametrus\n",
        "    optimizer.step()\n",
        "\n",
        "# Autore: Jekaterina Jevtejeva\n",
        "# St.apl.numurs: jj19021"
      ],
      "metadata": {
        "colab": {
          "base_uri": "https://localhost:8080/"
        },
        "id": "EEJNtLbZ3YAQ",
        "outputId": "e0d2a103-5711-4b55-e182-ef728674881d"
      },
      "execution_count": null,
      "outputs": [
        {
          "output_type": "stream",
          "name": "stderr",
          "text": [
            "/usr/local/lib/python3.7/dist-packages/ipykernel_launcher.py:72: UserWarning: To copy construct from a tensor, it is recommended to use sourceTensor.clone().detach() or sourceTensor.clone().detach().requires_grad_(True), rather than torch.tensor(sourceTensor).\n"
          ]
        }
      ]
    },
    {
      "cell_type": "markdown",
      "source": [
        "Rezultāti"
      ],
      "metadata": {
        "id": "z9X-DACM3jd2"
      }
    },
    {
      "cell_type": "code",
      "execution_count": null,
      "metadata": {
        "id": "ZP1XmRcFQ9JJ"
      },
      "outputs": [],
      "source": [
        "# Autore: Jekaterina Jevtejeva\n",
        "# St.apl.numurs: jj19021\n",
        "\n",
        "# Pielieto apmācīto modeli visiem ievaddatiem\n",
        "final = model(dataset.training_data)\n",
        "\n",
        "print(\"Pielietojot apmācīto modeli visiem ievaddatiem: \\n\", final, \"\\n\")\n",
        "\n",
        "# Rezultātu izvades formatēšana\n",
        "# Saraksts ar modeļa apmācības rezultātu vērtībām, noapaļojot līdz 4 decimālzīmēm\n",
        "res_list = [[round(float(i), 4) for i in nested] for nested in final.tolist()]\n",
        "\n",
        "# Saraksts ar modeļa apmācības rezultātu vērtībām, noapaļojot no float uz int\n",
        "res_list_rounded = [[round(float(i)) for i in nested] for nested in res_list]\n",
        "\n",
        "print(\"\\n\".join(\"Ievads: {} Sagaidāmais: {} Iegūtais: {} Noapaļojot: {}\".format(w, x, y, z) for w, x, y, z in zip(input, expected, res_list, res_list_rounded)))\n",
        "\n",
        "# Autore: Jekaterina Jevtejeva\n",
        "# St.apl.numurs: jj19021"
      ]
    }
  ]
}