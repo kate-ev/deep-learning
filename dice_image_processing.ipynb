{
  "nbformat": 4,
  "nbformat_minor": 0,
  "metadata": {
    "colab": {
      "provenance": []
    },
    "kernelspec": {
      "name": "python3",
      "display_name": "Python 3"
    },
    "language_info": {
      "name": "python"
    }
  },
  "cells": [
    {
      "cell_type": "markdown",
      "source": [
        "**2. mājasdarbs**"
      ],
      "metadata": {
        "id": "K2eJAoHBKWF6"
      }
    },
    {
      "cell_type": "code",
      "source": [
        "# Autore: Jekaterina Jevtejeva\n",
        "# St.apl.numurs: jj19021\n",
        "\n",
        "# Parametri\n",
        "LOAD_MODEL = True # karodziņš, kura True vērtība nozīmē, ka modeli ir jāieladē no faila; False - ka modeli ir jātrenē uz trenēšanas datiem\n",
        "STATE_DICT_FILE = 'md2_model_jj19021.pt' # saglabātā modeļa faila nosaukums\n",
        "TEST_FILE = 'dice_09.dat' # testa faila nosaukums no trenēšanas datu kopas"
      ],
      "metadata": {
        "id": "NJ4bYvzEKld6"
      },
      "execution_count": null,
      "outputs": []
    },
    {
      "cell_type": "code",
      "source": [
        "# Trenēšanas un testēšanas datu ielāde\n",
        "# Koda fragments paņemts no Google Colab piemēra \"Dice loading PyTorch\"\n",
        "!wget 'https://www.dropbox.com/s/k2ynyl95bzzurti/dice.zip'\n",
        "!unzip dice.zip\n",
        "!rm -rf __MACOSX"
      ],
      "metadata": {
        "id": "-WI1Bwnw-v-z"
      },
      "execution_count": null,
      "outputs": []
    },
    {
      "cell_type": "code",
      "source": [
        "# Saglabātā modeļa ieguve\n",
        "# Ar wget tiek ielādēts fails no Dropbox\n",
        "!wget 'https://www.dropbox.com/s/buyze4tey0dnfm3/md2_model_jj19021.pt'\n",
        "\n",
        "# Funkcija modeļa ielādēšanai, kas saņem state_dict no faila un ielādē to modelī\n",
        "def load_model(model):\n",
        "  state_dict = torch.load(STATE_DICT_FILE)\n",
        "  model.load_state_dict(state_dict)\n",
        "\n",
        "# Funkcija modeļa saglabāšanai, kas iegūst modeļa tekošo state_dict un ielādē to failā\n",
        "def save_model(model):\n",
        "  state_dict = model.state_dict()\n",
        "  torch.save(state_dict, STATE_DICT_FILE)"
      ],
      "metadata": {
        "id": "zt9DFG9cN4jN"
      },
      "execution_count": null,
      "outputs": []
    },
    {
      "cell_type": "code",
      "execution_count": null,
      "metadata": {
        "id": "_bdx5KpnKMra"
      },
      "outputs": [],
      "source": [
        "import io\n",
        "import os\n",
        "import torch\n",
        "from torch import nn, optim\n",
        "import numpy as np\n",
        "from torch.utils.data import DataLoader, Dataset\n",
        "\n",
        "# Dataset realizācija\n",
        "# Koda fragments paņemts no Google Colab piemēra \"Dice loading PyTorch\"\n",
        "class DiceDataset(Dataset):\n",
        "    def __init__(self, train=True, root_path='dice/data/', test_file=TEST_FILE):\n",
        "      contents = []\n",
        "      for f in os.scandir(root_path):\n",
        "        if f.is_file() and f.name.endswith('.dat'):\n",
        "          if train ^ (f.name == test_file):\n",
        "            file_contents = np.fromfile(root_path+f.name, dtype=np.uint8).reshape(-1,401)\n",
        "            # Katra bilde ir 401 baits, pirmajā baitā atbilde un tad 20x20 px\n",
        "            contents.append(file_contents)\n",
        "      contents = np.vstack(contents)\n",
        "      self.pictures = contents[:,1:].reshape(-1,1,20,20) # Channel x Height x Width\n",
        "      self.pictures = torch.tensor(self.pictures, dtype=torch.float32) / 255\n",
        "      self.labels = contents[:,0]\n",
        "\n",
        "    def __getitem__(self, key):\n",
        "        return self.pictures[key], self.labels[key]\n",
        "\n",
        "    def __len__(self):\n",
        "        return len(self.pictures)\n",
        "\n",
        "# Trenēšanas dati - karodzīņš train ir True, tiks izmantoti visi trenešanai paredzētie dati\n",
        "train_data = DiceDataset(train=True)\n",
        "train_loader = torch.utils.data.DataLoader(train_data, batch_size=64, shuffle=True)\n",
        "# Testēšanas dati - karodziņš train ir False, tiks izmantoti tikai testēšanai paredzetie dati - fails dice_09.dat\n",
        "test_data = DiceDataset(train=False)\n",
        "test_loader = torch.utils.data.DataLoader(test_data, batch_size=64, shuffle=False)"
      ]
    },
    {
      "cell_type": "code",
      "source": [
        "# Datu attēli\n",
        "# Koda fragments paņemts no Google Colab piemēra \"Dice loading PyTorch\"\n",
        "\n",
        "import matplotlib.pyplot as plt\n",
        "%matplotlib inline\n",
        "plt.rcParams['image.cmap'] = 'gray'\n",
        "def show_pictures(data):\n",
        "  figure = plt.figure(figsize=(10, 5))\n",
        "  for n in range(40):\n",
        "    figure.add_subplot(4,10,n+1)\n",
        "    img, label = data[n]\n",
        "    plt.title(label)\n",
        "    plt.imshow(img.squeeze())\n",
        "    plt.axis('off')\n",
        "\n",
        "show_pictures(test_data)"
      ],
      "metadata": {
        "id": "QSAmYye5_U50"
      },
      "execution_count": null,
      "outputs": []
    },
    {
      "cell_type": "code",
      "source": [
        "# Tīkla modulis\n",
        "# Tiek izmantots nn.Sequential realizācijas vienkāršošanai, jo visi slāņi tiks pielietoti secīgi\n",
        "# Slāņi un nepieciešamie parametri tika noskaidroti, vairākkārt testējot modeli un skatoties uz iegūto precizitāti,\n",
        "# kā piemēru sākotnēji lietojot MNIST modeļa realizāciju no Google Colab piemēra \"PyTorch MNIST demo\"\n",
        "class DiceModel(nn.Sequential):\n",
        "    def __init__(self):\n",
        "      super().__init__(\n",
        "          nn.Conv2d(1, 64, (5,5)),\n",
        "          nn.ReLU(),\n",
        "          nn.MaxPool2d((3,3)),\n",
        "          nn.Flatten(),\n",
        "          nn.Linear(in_features=1600, out_features=128),\n",
        "          nn.ReLU(),\n",
        "          nn.Linear(in_features=128, out_features=13),\n",
        "          nn.LogSoftmax(dim=1)\n",
        "        )\n",
        "\n",
        "model = DiceModel()"
      ],
      "metadata": {
        "id": "VB5pyTiTekKv"
      },
      "execution_count": null,
      "outputs": []
    },
    {
      "cell_type": "code",
      "source": [
        "# Trenēšanas parametru konfigurācija\n",
        "epochs = 5\n",
        "lr = 0.01\n",
        "momentum = 0.9\n",
        "\n",
        "# GPU pieejamības pārbaude\n",
        "device = 'cuda:0' if torch.cuda.is_available() else 'cpu'\n",
        "model.to(device)\n",
        "criterion = nn.NLLLoss()\n",
        "optimizer = optim.SGD(model.parameters(), lr=lr, momentum=momentum)\n",
        "\n",
        "# Ja modeļa ielādes karodziņš ir patiess, ielādē modeļa state_dict no faila\n",
        "if LOAD_MODEL:\n",
        "  load_model(model)\n",
        "# Citādi notiek modeļa trenēšana\n",
        "# Koda fragments paņemts no Google Colab piemēra \"PyTorch MNIST demo\"\n",
        "else:\n",
        "  for epoch in range(epochs):\n",
        "      running_loss = 0.0\n",
        "\n",
        "      for times, data in enumerate(train_loader):\n",
        "          inputs, labels = data[0].to(device), data[1].to(device)\n",
        "\n",
        "          # Notīram gradientus\n",
        "          optimizer.zero_grad()\n",
        "\n",
        "          # Foward + backward + optimize\n",
        "          outputs = model(inputs)\n",
        "          loss = criterion(outputs, labels)\n",
        "          loss.backward()\n",
        "          optimizer.step()\n",
        "\n",
        "          # Izdrukājam statistiku\n",
        "          running_loss += loss.item()\n",
        "          if times % 100 == 99 or times+1 == len(train_loader):\n",
        "              print('[%d/%d, %d/%d] loss: %.3f' % (epoch+1, epochs, times+1, len(train_loader), running_loss/times))\n",
        "                # running_loss / times - vidējā zudumfunkcija tekošā epohā\n",
        "\n",
        "  print('Trenēšana ir pabeigta.')"
      ],
      "metadata": {
        "id": "Tc1dUpvjANb7"
      },
      "execution_count": null,
      "outputs": []
    },
    {
      "cell_type": "code",
      "source": [
        "# Modeļa saglabāšana\n",
        "save_model(model)"
      ],
      "metadata": {
        "id": "1s0uDrY5f21Y"
      },
      "execution_count": null,
      "outputs": []
    },
    {
      "cell_type": "code",
      "source": [
        "# Testēšana un rezultāti\n",
        "# Tiek izmantota testa datu kopa\n",
        "correct = 0\n",
        "total = 0\n",
        "\n",
        "with torch.no_grad():\n",
        "    for data in test_loader:\n",
        "        inputs, labels = data\n",
        "        inputs, labels = inputs.to(device), labels.to(device)\n",
        "\n",
        "        outputs = model(inputs)  # Outputs ir vektors no 13 'varbūtībām'\n",
        "        _, predicted = torch.max(outputs.data, 1)\n",
        "          # Max rezultāta pirmā daļa ir maksimums, otrā - kurā vietā tas ir,\n",
        "          # t.i. argmax, kura summa ar lielāko varbūtību\n",
        "        total += labels.size(0)\n",
        "        correct += (predicted == labels).sum().item()\n",
        "          # (predicted == labels) tā kā abi ieejā ir vienāda garuma vektori, tad rezultāts ir tāda pat garuma vektors no nullītēm un vieniniekiem\n",
        "\n",
        "print('Precizitāte uz testa datu kopas: %.2f %%' % (100 * correct / total))\n",
        "\n",
        "# Autore: Jekaterina Jevtejeva\n",
        "# St.apl.numurs: jj19021"
      ],
      "metadata": {
        "id": "veF8KL8HOI1G",
        "colab": {
          "base_uri": "https://localhost:8080/"
        },
        "outputId": "e3016a56-9442-4d3e-9f83-7685896b5c9b"
      },
      "execution_count": null,
      "outputs": [
        {
          "output_type": "stream",
          "name": "stdout",
          "text": [
            "Precizitāte uz testa datu kopas: 99.74 %\n"
          ]
        }
      ]
    }
  ]
}
